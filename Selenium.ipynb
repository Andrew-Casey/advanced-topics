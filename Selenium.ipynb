{
 "cells": [
  {
   "cell_type": "code",
   "execution_count": 1,
   "id": "078aaff6",
   "metadata": {},
   "outputs": [],
   "source": [
    "from selenium import webdriver\n",
    "from selenium.webdriver.chrome.service import Service\n",
    "from selenium.webdriver.common.keys import Keys\n",
    "from selenium.webdriver.common.by import By\n",
    "from selenium.webdriver.common.action_chains import ActionChains\n",
    "from selenium.webdriver.support.ui import Select, WebDriverWait\n",
    "from selenium.webdriver.support import expected_conditions as EC\n",
    "\n",
    "from webdriver_manager.chrome import ChromeDriverManager\n",
    "\n",
    "import time as t\n",
    "import os"
   ]
  },
  {
   "cell_type": "markdown",
   "id": "39a1cca2",
   "metadata": {},
   "source": [
    "# 1\n",
    "Make a function that will download all of the sql files listed in your database-exercises repo."
   ]
  },
  {
   "cell_type": "code",
   "execution_count": null,
   "id": "5222317e",
   "metadata": {},
   "outputs": [],
   "source": [
    "def Get_sql_files():\n",
    "\n",
    "    # Get user and password from os\n",
    "    user = os.getenv(\"githubUSER\")\n",
    "    pswd = os.getenv(\"githubpass\")\n",
    "                 \n",
    "    base_url = \"https://github.com/\"\n",
    "\n",
    "\n",
    "    # Create a webdriver object \n",
    "    driver = webdriver.Chrome(service = Service())\n",
    "\n",
    "    # Open github\n",
    "    driver.get(base_url+\"login\")\n",
    "\n",
    "    # Navigate to database-exercises repo\n",
    "    driver.get(base_url+user+\"/database-exercises\")\n",
    "\n",
    "    # Identify links to links within repository\n",
    "    files = driver.find_elements(By.XPATH, \"//a[@class='js-navigation-open Link--primary']\")\n",
    "\n",
    "    # Iterate over the files starting from index 1 (skipping the first readme file)\n",
    "    for file_index in range(1, len(files)):\n",
    "    # Re-locate the files after navigating back to the section page\n",
    "        files = driver.find_elements(By.XPATH, \"//a[@class='js-navigation-open Link--primary']\")\n",
    "        \n",
    "        file_to_download = files[file_index]\n",
    "        file_to_download.click()\n",
    "    \n",
    "    # Wait for the download button to appear (add appropriate wait time if necessary)\n",
    "        t.sleep(5)\n",
    "    \n",
    "    # Get the download button\n",
    "        download_button = driver.find_elements(By.XPATH, \"//button[@data-component='IconButton']\")[5]\n",
    "        download_button.click()\n",
    "    \n",
    "    # Wait for the download to complete (add appropriate wait time if necessary)\n",
    "        t.sleep(5) \n",
    "    \n",
    "    # Go back to the section page to select the next file\n",
    "        driver.back()\n",
    "    \n",
    "    # Wait for the section page to load (add appropriate wait time if necessary)\n",
    "        t.sleep(5)\n",
    "\n",
    "    # Quit and close\n",
    "    driver.quit()    \n"
   ]
  },
  {
   "cell_type": "code",
   "execution_count": null,
   "id": "fee7fac6",
   "metadata": {},
   "outputs": [],
   "source": [
    "Get_sql_files()"
   ]
  },
  {
   "cell_type": "markdown",
   "id": "7faa3a96",
   "metadata": {},
   "source": [
    "# 2\n",
    "\n",
    "\n",
    "Pick one more repo to download all ipynb's (only) from and turn that into a second function."
   ]
  },
  {
   "cell_type": "code",
   "execution_count": 4,
   "id": "25ddbe5f",
   "metadata": {},
   "outputs": [],
   "source": [
    "def Get_ipynb():\n",
    "    # Get user and password from os\n",
    "    user = os.getenv(\"githubUSER\")\n",
    "    pswd = os.getenv(\"githubpass\")\n",
    "\n",
    "    base_url = \"https://github.com/\"\n",
    "\n",
    "    # Create a webdriver object\n",
    "    driver = webdriver.Chrome(service=Service())\n",
    "\n",
    "    # Open github\n",
    "    driver.get(base_url + \"login\")\n",
    "\n",
    "    # Navigate to database-exercises repo\n",
    "    driver.get(base_url + user + \"/python-exercises\")\n",
    "\n",
    "    # Identify links to links within repository\n",
    "    files = driver.find_elements(By.XPATH, \"//a[contains(@href, '.ipynb') and @class='js-navigation-open Link--primary']\")\n",
    "\n",
    "    # Iterate over the files starting from index 0\n",
    "    for file_index in range(len(files)):\n",
    "        # Re-locate the files after navigating back to the section page\n",
    "        files = driver.find_elements(By.XPATH, \"//a[contains(@href, '.ipynb') and @class='js-navigation-open Link--primary']\")\n",
    "\n",
    "        file_to_download = files[file_index]\n",
    "        file_to_download.click()\n",
    "\n",
    "        # Wait for the download button to appear (add appropriate wait time if necessary)\n",
    "        t.sleep(5)\n",
    "\n",
    "        # Get the download button\n",
    "        download_button = driver.find_elements(By.XPATH, \"//button[@data-component='IconButton']\")[5]\n",
    "        download_button.click()\n",
    "\n",
    "        # Wait for the download to complete (add appropriate wait time if necessary)\n",
    "        t.sleep(5)\n",
    "\n",
    "        # Go back to the section page to select the next file\n",
    "        driver.back()\n",
    "\n",
    "        # Wait for the section page to load (add appropriate wait time if necessary)\n",
    "        t.sleep(5)\n",
    "\n",
    "    # Quit and close\n",
    "    driver.quit()\n"
   ]
  },
  {
   "cell_type": "code",
   "execution_count": 5,
   "id": "4262fc8d",
   "metadata": {},
   "outputs": [],
   "source": [
    "Get_ipynb()"
   ]
  },
  {
   "cell_type": "code",
   "execution_count": null,
   "id": "ca244b6d",
   "metadata": {},
   "outputs": [],
   "source": []
  },
  {
   "cell_type": "code",
   "execution_count": null,
   "id": "6290c0f2",
   "metadata": {},
   "outputs": [],
   "source": []
  },
  {
   "cell_type": "code",
   "execution_count": null,
   "id": "210d3a06",
   "metadata": {},
   "outputs": [],
   "source": []
  },
  {
   "cell_type": "code",
   "execution_count": null,
   "id": "92c8a454",
   "metadata": {},
   "outputs": [],
   "source": []
  },
  {
   "cell_type": "code",
   "execution_count": null,
   "id": "071e433a",
   "metadata": {},
   "outputs": [],
   "source": []
  },
  {
   "cell_type": "code",
   "execution_count": null,
   "id": "7f697c3c",
   "metadata": {},
   "outputs": [],
   "source": []
  },
  {
   "cell_type": "code",
   "execution_count": null,
   "id": "bc9e4171",
   "metadata": {},
   "outputs": [],
   "source": []
  },
  {
   "cell_type": "code",
   "execution_count": null,
   "id": "ec550d8d",
   "metadata": {},
   "outputs": [],
   "source": []
  }
 ],
 "metadata": {
  "kernelspec": {
   "display_name": "Python 3 (ipykernel)",
   "language": "python",
   "name": "python3"
  },
  "language_info": {
   "codemirror_mode": {
    "name": "ipython",
    "version": 3
   },
   "file_extension": ".py",
   "mimetype": "text/x-python",
   "name": "python",
   "nbconvert_exporter": "python",
   "pygments_lexer": "ipython3",
   "version": "3.9.13"
  }
 },
 "nbformat": 4,
 "nbformat_minor": 5
}
